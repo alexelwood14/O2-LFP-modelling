{
 "cells": [
  {
   "cell_type": "markdown",
   "metadata": {},
   "source": [
    "# Filtering\n",
    "\n",
    "Part of this project will rely on finding the relationship between different frequency components within the O2 data and the LFP data. This notebook will perform Fourier transforms and low/high pass filtering on the O2 data to get a better understanding of the data and Julia libraries.\n",
    "\n",
    "## Importing"
   ]
  },
  {
   "cell_type": "code",
   "execution_count": 1,
   "metadata": {},
   "outputs": [],
   "source": [
    "# Indexing o2_data[datapoint, time/o2]\n",
    "\n",
    "o2_path = \"Exp 1/R4/\"\n",
    "filename = \"o2data R4.txt\"\n",
    "o2_data = []\n",
    "open(\"../data/$(o2_path)$(filename)\") do file\n",
    "    for line in eachline(file)\n",
    "        if isdigit(line[1])\n",
    "            data_element = split(line, \"\\t\")\n",
    "            data_element = [parse(Float32, data_element[1]), parse(Float32, data_element[2])]\n",
    "            push!(o2_data, data_element)\n",
    "        end\n",
    "    end\n",
    "end\n",
    "o2_data = reduce(vcat,transpose.(o2_data))"
   ]
  }
 ],
 "metadata": {
  "kernelspec": {
   "display_name": "Julia 1.7.2",
   "language": "julia",
   "name": "julia-1.7"
  },
  "language_info": {
   "file_extension": ".jl",
   "mimetype": "application/julia",
   "name": "julia",
   "version": "1.7.2"
  },
  "orig_nbformat": 4
 },
 "nbformat": 4,
 "nbformat_minor": 2
}

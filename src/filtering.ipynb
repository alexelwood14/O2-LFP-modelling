{
 "cells": [
  {
   "cell_type": "markdown",
   "metadata": {},
   "source": [
    "# Filtering\n",
    "\n",
    "Part of this project will rely on finding the relationship between different frequency components within the O2 data and the LFP data. This notebook will perform Fourier transforms and low/high pass filtering on the O2 data to get a better understanding of the data and Julia libraries."
   ]
  },
  {
   "cell_type": "code",
   "execution_count": 46,
   "metadata": {},
   "outputs": [],
   "source": [
    "using Plots\n",
    "using FFTW\n",
    "using Fourier\n",
    "using DSP\n",
    "using Statistics"
   ]
  },
  {
   "cell_type": "markdown",
   "metadata": {},
   "source": [
    "## Importing"
   ]
  },
  {
   "cell_type": "code",
   "execution_count": 47,
   "metadata": {},
   "outputs": [],
   "source": [
    "# Indexing o2_data[datapoint, time/o2]\n",
    "\n",
    "o2_path = \"Exp 1/R4/\"\n",
    "filename = \"o2data R4.txt\"\n",
    "o2_data = []\n",
    "open(\"../data/$(o2_path)$(filename)\") do file\n",
    "    for line in eachline(file)\n",
    "        if isdigit(line[1])\n",
    "            data_element = split(line, \"\\t\")\n",
    "            data_element = [parse(Float32, data_element[1]), parse(Float32, data_element[2])]\n",
    "            push!(o2_data, data_element)\n",
    "        end\n",
    "    end\n",
    "end\n",
    "o2_data = reduce(vcat,transpose.(o2_data))\n",
    "o2_data_subset = o2_data[100:10000, :] \n",
    "o2_data_subset[:, 2] = (o2_data_subset[:, 2] .- mean(o2_data_subset[:, 2])) ./ var(o2_data_subset[:, 2])\n",
    "o2_data_subset"
   ]
  },
  {
   "cell_type": "code",
   "execution_count": null,
   "metadata": {},
   "outputs": [],
   "source": [
    "plot(o2_data_subset[:, 1], o2_data_subset[:, 2], legend=false)\n",
    "title!(\"O2 Dataset to be used in Forier Analysis\")\n",
    "xlabel!(\"Time (s)\")"
   ]
  },
  {
   "cell_type": "markdown",
   "metadata": {},
   "source": [
    "## Fourier Transform\n",
    "\n",
    "This section will attempt to compute and graph the Fourier Space of the data to get a better understanding of the frequency components that it comprises."
   ]
  },
  {
   "cell_type": "code",
   "execution_count": null,
   "metadata": {},
   "outputs": [],
   "source": [
    "sampling_rate = 1000\n",
    "\n",
    "F = fft(o2_data_subset[:,2])\n",
    "freqs = fftfreq(length(o2_data_subset[:,1]), sampling_rate)"
   ]
  },
  {
   "cell_type": "code",
   "execution_count": null,
   "metadata": {},
   "outputs": [],
   "source": [
    "# Plot\n",
    "re = plot(freqs, real(F), title = \"Real\", xlim=(-150,150), ylim=(0,maximum(real(F))), legend=false)\n",
    "im = plot(freqs, imag(F), title = \"Imaginary\", xlim=(-150,150), ylim=(0,maximum(imag(F))), legend=false)\n",
    "plot(re,im, layout=layout = grid(1, 2), plot_title=\"Fourier Space of O2 Data\")\n",
    "xlabel!(\"Frequency (Hz)\")\n",
    "ylabel!(\"Amplitude\")"
   ]
  },
  {
   "cell_type": "markdown",
   "metadata": {},
   "source": [
    "## Low Pass Filtering\n",
    "\n",
    "Objective: extract the low frequency signals from the o2 data (<1Hz)."
   ]
  },
  {
   "cell_type": "code",
   "execution_count": null,
   "metadata": {},
   "outputs": [],
   "source": [
    "pass_freq = 10\n",
    "\n",
    "low_pass_F = copy(F)\n",
    "low_pass_F[findall(x->x>pass_freq, freqs)] .= 0\n",
    "low_pass_F[findall(x->x<-pass_freq, freqs)] .= 0\n",
    "plot(freqs, abs.(low_pass_F), xlim=(-150,150), ylim=(0,maximum(abs.(low_pass_F))), legend=false)\n",
    "title!(\"Low Pass Filtered Fourier Space of O2 Data\")\n",
    "xlabel!(\"Frequency (Hz)\")\n",
    "ylabel!(\"Amplitude\")"
   ]
  },
  {
   "cell_type": "code",
   "execution_count": null,
   "metadata": {},
   "outputs": [],
   "source": [
    "plot(o2_data_subset[:,2], label=\"Original\")\n",
    "plot!(real(ifft(low_pass_F)), label=\"Transformed\", linewidth = 1.5)\n",
    "title!(\"Low Pass Filtered Fourier Space of O2 Data\")\n",
    "xlabel!(\"Time (s)\")"
   ]
  },
  {
   "cell_type": "markdown",
   "metadata": {},
   "source": [
    "## High Pass Filtering\n",
    "\n",
    "Objective: extract the high frequency signals from the o2 data (>1Hz)."
   ]
  },
  {
   "cell_type": "code",
   "execution_count": null,
   "metadata": {},
   "outputs": [],
   "source": [
    "pass_freq = 10\n",
    "\n",
    "high_pass_F = copy(F)\n",
    "high_pass_F[findall(x->-pass_freq<x<pass_freq, freqs)] .= 0\n",
    "plot(freqs, abs.(high_pass_F), xlim=(-150,150), ylim=(0,maximum(abs.(high_pass_F))), legend=false)\n",
    "title!(\"High Pass Filtered Fourier Space of O2 Data\")\n",
    "xlabel!(\"Frequency (Hz)\")\n",
    "ylabel!(\"Amplitude\")"
   ]
  },
  {
   "cell_type": "code",
   "execution_count": null,
   "metadata": {},
   "outputs": [],
   "source": [
    "plot(o2_data_subset[:,2], label=\"Original\")\n",
    "plot!(real(ifft(high_pass_F)), label=\"Transformed\", linewidth = 1.5)\n",
    "title!(\"High Pass Filtered Fourier Space of O2 Data\")\n",
    "xlabel!(\"Time (s)\")"
   ]
  }
 ],
 "metadata": {
  "kernelspec": {
   "display_name": "Julia 1.7.2",
   "language": "julia",
   "name": "julia-1.7"
  },
  "language_info": {
   "file_extension": ".jl",
   "mimetype": "application/julia",
   "name": "julia",
   "version": "1.7.2"
  },
  "orig_nbformat": 4
 },
 "nbformat": 4,
 "nbformat_minor": 2
}

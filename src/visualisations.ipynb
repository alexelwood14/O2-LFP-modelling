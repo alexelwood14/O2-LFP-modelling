{
 "cells": [
  {
   "cell_type": "markdown",
   "metadata": {},
   "source": [
    "# Visualisations\n",
    "\n",
    "The aim of this notebook is to create some code that can be used throughout the project to import the data into Julia, and to visualise some of the data to get a better understanding of it."
   ]
  },
  {
   "cell_type": "code",
   "execution_count": 28,
   "metadata": {},
   "outputs": [],
   "source": [
    "using NPZ\n",
    "using EzXML\n",
    "using StatsPlots"
   ]
  },
  {
   "cell_type": "markdown",
   "metadata": {},
   "source": [
    "## Importing - LFP"
   ]
  },
  {
   "cell_type": "code",
   "execution_count": 29,
   "metadata": {},
   "outputs": [
    {
     "data": {
      "text/plain": [
       "Dict{String, Any} with 5 entries:\n",
       "  \"name\"      => Any[\"CH1\", \"CH2\", \"CH3\", \"CH4\", \"CH5\", \"CH6\", \"CH7\", \"CH8\", \"C…\n",
       "  \"processor\" => \"111\"\n",
       "  \"filename\"  => Any[\"100_CH1.npz\", \"100_CH2.npz\", \"100_CH3.npz\", \"100_CH4.npz\"…\n",
       "  \"position\"  => Any[\"1024\", \"1024\", \"1024\", \"1024\", \"1024\", \"1024\", \"1024\", \"1…\n",
       "  \"bitVolts\"  => Any[\"0.19499999284744262695\", \"0.19499999284744262695\", \"0.194…"
      ]
     },
     "metadata": {},
     "output_type": "display_data"
    }
   ],
   "source": [
    "# Get the XML metadata file\n",
    "data_path = \"Exp 1/R4/2022-05-10_15-56-32/Record Node 111/\"\n",
    "files_xml = root(readxml(\"../data/$(data_path)Continuous_Data.openephys\"))\n",
    "recording = firstelement(firstelement(files_xml))\n",
    "\n",
    "# Format XML data into Dict\n",
    "files = Dict(\"processor\" => recording[\"id\"], \"name\" => [], \"filename\" => [], \"position\" => [], \"bitVolts\" => [])\n",
    "for elem in eachelement(recording)\n",
    "    push!(files[\"name\"], elem[\"name\"])\n",
    "    filename = replace(elem[\"filename\"], r\"continuous$\"=>\"\")\n",
    "    push!(files[\"filename\"], \"$(filename)npz\")\n",
    "    push!(files[\"position\"], elem[\"position\"])\n",
    "    push!(files[\"bitVolts\"], elem[\"bitVolts\"])\n",
    "end\n",
    "files"
   ]
  },
  {
   "cell_type": "code",
   "execution_count": 30,
   "metadata": {},
   "outputs": [],
   "source": [
    "# Indexing lfp_data[channel, datapoint]\n",
    "\n",
    "# Add data from each channel into a single matrix\n",
    "n_datapoints = length(npzread(\"../data/formatted-lfp/$(data_path)$(files[\"filename\"][1])\", [\"data\"])[\"data\"])\n",
    "n_channels = length(files[\"filename\"])\n",
    "lfp_data = Array{Float32}(undef, n_channels, n_datapoints)\n",
    "for i in 1:length(files[\"filename\"])\n",
    "    data = npzread(\"../data/formatted-lfp/$(data_path)$(files[\"filename\"][i])\", [\"data\"])[\"data\"] .* parse(Float64, files[\"bitVolts\"][i])\n",
    "    lfp_data[i, :] = data\n",
    "end"
   ]
  },
  {
   "cell_type": "markdown",
   "metadata": {},
   "source": [
    "## Visualisations - LFP"
   ]
  },
  {
   "cell_type": "code",
   "execution_count": 47,
   "metadata": {},
   "outputs": [],
   "source": [
    "plot(lfp_data[1,1:100], legend=false)\n",
    "for i in 2:5\n",
    "    plot!(lfp_data[i,1:100], legend=false)\n",
    "end\n",
    "title!(\"First 100 LFP Datapoints from 5 Channels\")\n",
    "xlabel!(\"Datapoint\")\n",
    "ylabel!(\"LFP (uV)\")"
   ]
  },
  {
   "cell_type": "markdown",
   "metadata": {},
   "source": [
    "## Importing - O2 "
   ]
  },
  {
   "cell_type": "code",
   "execution_count": 46,
   "metadata": {},
   "outputs": [
    {
     "data": {
      "text/plain": [
       "1508564×2 Matrix{Float32}:\n",
       "    0.0    -114.384\n",
       "    0.001  -114.384\n",
       "    0.002  -114.384\n",
       "    0.003  -114.384\n",
       "    0.004  -114.384\n",
       "    0.005  -114.384\n",
       "    0.006  -114.384\n",
       "    0.007  -114.384\n",
       "    0.008  -114.384\n",
       "    0.009  -114.384\n",
       "    ⋮      \n",
       " 1508.56    -91.092\n",
       " 1508.56    -91.092\n",
       " 1508.56    -91.092\n",
       " 1508.56    -91.092\n",
       " 1508.56    -91.092\n",
       " 1508.56    -91.092\n",
       " 1508.56    -91.092\n",
       " 1508.56    -91.092\n",
       " 1508.56    -91.092"
      ]
     },
     "metadata": {},
     "output_type": "display_data"
    }
   ],
   "source": [
    "# Indexing o2_data[datapoint, time/o2]\n",
    "\n",
    "data_path = \"Exp 1/R4/\"\n",
    "filename = \"o2data R4.txt\"\n",
    "o2_data = []\n",
    "open(\"../data/$(data_path)$(filename)\") do file\n",
    "    for line in eachline(file)\n",
    "        if isdigit(line[1])\n",
    "            data_element = split(line, \"\\t\")\n",
    "            data_element = [parse(Float32, data_element[1]), parse(Float32, data_element[2])]\n",
    "            push!(o2_data, data_element)\n",
    "        end\n",
    "    end\n",
    "end\n",
    "o2_data = reduce(vcat,transpose.(o2_data))"
   ]
  },
  {
   "cell_type": "markdown",
   "metadata": {},
   "source": [
    "## Visualisations - O2"
   ]
  },
  {
   "cell_type": "code",
   "execution_count": 48,
   "metadata": {},
   "outputs": [],
   "source": [
    "plot(o2_data[1:10000, 1], o2_data[1:10000, 2], legend=false)\n",
    "title!(\"First 10000 O2 Datapoints\")\n",
    "xlabel!(\"Time (s)\")\n",
    "ylabel!(\"O2 (uA)\")"
   ]
  }
 ],
 "metadata": {
  "kernelspec": {
   "display_name": "Julia 1.7.2",
   "language": "julia",
   "name": "julia-1.7"
  },
  "language_info": {
   "file_extension": ".jl",
   "mimetype": "application/julia",
   "name": "julia",
   "version": "1.7.2"
  }
 },
 "nbformat": 4,
 "nbformat_minor": 2
}

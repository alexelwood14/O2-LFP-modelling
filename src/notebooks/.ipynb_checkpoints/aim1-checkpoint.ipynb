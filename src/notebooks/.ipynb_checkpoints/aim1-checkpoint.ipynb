{
 "cells": [
  {
   "cell_type": "code",
   "execution_count": 1,
   "metadata": {},
   "outputs": [],
   "source": [
    "using DSP\n",
    "using FFTW\n",
    "using Plots\n",
    "using Statistics\n",
    "using StatsBase\n",
    "using Turing\n",
    "using StatsPlots"
   ]
  },
  {
   "cell_type": "markdown",
   "metadata": {},
   "source": [
    "# Aim 1: Low Frequency O2 to LFP Relationship\n",
    "\n",
    "Make a formal description of the relationships between oxygen amperometric signals (<1hz) and local field potentials (LFP) (typically 1-80Hz) recorded simultaneously on separate electrodes.\n",
    "\n",
    "To do this the O2 will be band-passed between 0.01-1Hz. LFP will be band-passed to 1-45Hz then the envelope will be taken, this will be smoothed using a leaky integrator to oscillate at a similar rate as the O2. \n",
    "\n",
    "## Importing Data"
   ]
  },
  {
   "cell_type": "code",
   "execution_count": 2,
   "metadata": {},
   "outputs": [
    {
     "data": {
      "text/plain": [
       "Dict{String, Vector{Float32}} with 4 entries:\n",
       "  \"laser\"      => [39824.0, 110812.0, 184330.0, 247107.0, 320937.0, 384378.0, 4…\n",
       "  \"sync\"       => [13906.0, 24375.0, 34848.0, 45328.0, 55812.0, 66277.0, 76756.…\n",
       "  \"data\"       => [-35.75, -39.797, -34.719, -32.188, -36.406, -35.406, -40.813…\n",
       "  \"timestamps\" => [0.0, 1.0, 2.0, 3.0, 4.0, 5.0, 6.0, 7.0, 8.0, 9.0  …  961349.…"
      ]
     },
     "execution_count": 2,
     "metadata": {},
     "output_type": "execute_result"
    }
   ],
   "source": [
    "include(\"../helpers/importing.jl\")\n",
    "lfp = import_lfp(\"Exp 3/R4/2022-05-12_16-46-03/Record Node 101/\")\n",
    "o2 = import_o2(\"Exp 3/R4/o2lfp r4.txt\")"
   ]
  },
  {
   "cell_type": "markdown",
   "metadata": {},
   "source": [
    "## Extracting Envelopes of LFP Data"
   ]
  },
  {
   "cell_type": "code",
   "execution_count": null,
   "metadata": {},
   "outputs": [],
   "source": [
    "# Compute the Fourier Transform\n",
    "sampling_rate = 1000\n",
    "freqs = fftfreq(length(lfp[\"data\"][1,:]), sampling_rate)\n",
    "\n",
    "# Butterworth's low pass filter equation\n",
    "function butterworth_low(freq, pass_freq, n=5)\n",
    "    return 1 / (1 + (abs(freq) / pass_freq) ^ 2n)\n",
    "end\n",
    "\n",
    "# Butterworth's high pass filter equation\n",
    "function butterworth_high(freq, pass_freq, n=5)\n",
    "    return 1 / (1 + (pass_freq / abs(freq)) ^ 2n)\n",
    "end\n",
    "\n",
    "\n",
    "# Apply the Band-Pass Butterworth filter\n",
    "band = [1, 5]\n",
    "lfp_envelopes = []\n",
    "for i in 1:4\n",
    "    F = fft(lfp[\"data\"][i, :])\n",
    "    for i in 1:length(F)\n",
    "        F[i] = F[i] * butterworth_high(freqs[i], band[1]) * butterworth_low(freqs[i], band[2]) \n",
    "    end\n",
    "    banded_lfp = real(ifft(F))\n",
    "    push!(lfp_envelopes, abs.(hilbert(banded_lfp)))\n",
    "end\n",
    "lfp_envelopes"
   ]
  },
  {
   "cell_type": "markdown",
   "metadata": {},
   "source": [
    "## Applying a Leaky Integrator to LFP envelopes"
   ]
  },
  {
   "cell_type": "code",
   "execution_count": null,
   "metadata": {},
   "outputs": [],
   "source": [
    "include(\"../helpers/filtering.jl\")\n",
    "lfp_smoothed = leaky_integrator(lfp_envelopes[1]; k=200)"
   ]
  },
  {
   "cell_type": "markdown",
   "metadata": {},
   "source": [
    "## Band-Pass Filtering O2 Data"
   ]
  },
  {
   "cell_type": "code",
   "execution_count": null,
   "metadata": {},
   "outputs": [],
   "source": [
    "# Compute the Fourier Transform\n",
    "sampling_rate = 1000\n",
    "F = fft(o2[\"data\"])\n",
    "freqs = fftfreq(length(o2[\"data\"]), sampling_rate)\n",
    "\n",
    "band = [0.001, 1] \n",
    "band_pass_F = copy(F)\n",
    "for i in 1:length(band_pass_F)\n",
    "    band_pass_F[i] = band_pass_F[i] * butterworth_high(freqs[i], band[1], 5) * butterworth_low(freqs[i], band[2], 5)\n",
    "end\n",
    "\n",
    "banded_o2 = real(ifft(band_pass_F))\n",
    "banded_o2 = standardize(ZScoreTransform, banded_o2)"
   ]
  },
  {
   "cell_type": "markdown",
   "metadata": {},
   "source": [
    "## Visualising LFP and O2 Relationship"
   ]
  },
  {
   "cell_type": "code",
   "execution_count": null,
   "metadata": {},
   "outputs": [],
   "source": [
    "# Find correct indices around the laser flags \n",
    "o2_starts = findall(x->x in o2[\"laser\"], o2[\"timestamps\"])\n",
    "lfp_starts = findall(x->x in lfp[\"laser\"][\"on\"], lfp[\"timestamps\"])\n",
    "start = -5000\n",
    "stop = 10000\n",
    "\n",
    "# Get variances for each datapoint\n",
    "var_o2 = []\n",
    "var_lfp = []\n",
    "for i in 1:stop-start+1\n",
    "    o2_all = []\n",
    "    lfp_all = []\n",
    "    for j in 1:length(o2_starts)\n",
    "        data = standardize(ZScoreTransform, banded_o2[o2_starts[j]+start:o2_starts[j]+stop])\n",
    "        push!(o2_all, data[i])\n",
    "        data = standardize(ZScoreTransform, lfp_smoothed[lfp_starts[j]+start:lfp_starts[j]+stop])\n",
    "        push!(lfp_all, data[i])\n",
    "    end\n",
    "    push!(var_o2, sqrt(var(o2_all)))\n",
    "    push!(var_lfp, sqrt(var(lfp_all)))\n",
    "end\n",
    "\n",
    "# Finding the mean of the standardised data\n",
    "mean_o2 = zeros(length(banded_o2[o2_starts[1]+start:o2_starts[1]+stop]))\n",
    "mean_lfp = zeros(length(lfp_smoothed[lfp_starts[1]+start:lfp_starts[1]+stop]))\n",
    "for i in 1:length(o2_starts)\n",
    "    data = standardize(ZScoreTransform, banded_o2[o2_starts[i]+start:o2_starts[i]+stop])\n",
    "    mean_o2 += data\n",
    "\n",
    "    data = standardize(ZScoreTransform, lfp_smoothed[lfp_starts[i]+start:lfp_starts[i]+stop])\n",
    "    mean_lfp += data\n",
    "end\n",
    "mean_o2 ./= length(o2_starts)\n",
    "mean_lfp ./= length(o2_starts)"
   ]
  },
  {
   "cell_type": "code",
   "execution_count": null,
   "metadata": {},
   "outputs": [],
   "source": [
    "# Plot horizontal and vertical lines to make graph clearer\n",
    "vline([0], linestyle=:dash, colour=:grey, label=false, c=\"Black\", ylim=(-3,3), legend=:bottomright)\n",
    "hline!([0], linestyle=:dash, colour=:grey, label=false, c=\"Black\")\n",
    "\n",
    "# Plot confidence intervals\n",
    "plot!((start/1000:0.001:stop/1000), mean_o2.-var_o2, fillrange=mean_o2.+var_lfp, fillalpha = 0.5, linealpha=0, c=\"Orange\", label=\"O2 Confidence ±σ\")\n",
    "plot!((start/1000:0.001:stop/1000), mean_lfp.-var_lfp, fillrange=mean_lfp.+var_lfp, fillalpha = 0.5, linealpha=0, c=\"Blue\", label=\"LFP Confidence ±σ\")\n",
    "\n",
    "# Plot means over time\n",
    "plot!((start/1000:0.001:stop/1000), mean_o2, label=\"O2, 0.001-1Hz\", c=\"Orange\", linewidth=2)  \n",
    "plot!((start/1000:0.001:stop/1000), mean_lfp, label=\"LFP, 1-45Hz, Enveloped, Smoothed\", c=\"Blue\", linewidth=2)  \n",
    "\n",
    "# Improving graph format\n",
    "xticks!((start/1000:stop/1000))\n",
    "title!(\"Mean O2 & LFP after each Laser Stimulation\\n(Exp 2, R7)\")\n",
    "xlabel!(\"Time [s]\")\n",
    "ylabel!(\"Standardised Amplitude\")"
   ]
  },
  {
   "cell_type": "code",
   "execution_count": null,
   "metadata": {},
   "outputs": [],
   "source": [
    "cor(mean_o2, mean_lfp)"
   ]
  },
  {
   "cell_type": "markdown",
   "metadata": {},
   "source": [
    "This initial graph shows a good correlation between both datasets, and it should be possible to produce a predictive model based on it.\n",
    "\n",
    "## Linear Regression Model with Fixed K\n",
    "\n",
    "This model will perform Bayesian Linear Regression to produce a predictor of O2 using LFP. It will assume the smoothing factor to be k=200, the same as in the graph above.\n",
    "\n",
    "$$y_i \\sim Normal(\\mu_i, \\sigma_i)$$\n",
    "\n",
    "$$\\mu_i = \\beta x_{i}$$\n",
    "\n",
    "$$\\beta \\sim Normal(0, \\tau_\\beta)$$\n",
    "\n",
    "$$\\tau_\\beta \\sim Gamma(2, 2)$$\n",
    "\n",
    "$$\\sigma_i \\sim Gamma(2, 2)$$"
   ]
  },
  {
   "cell_type": "code",
   "execution_count": null,
   "metadata": {},
   "outputs": [],
   "source": [
    "@model function Linear_Regression(y, x)\n",
    "    # Priors\n",
    "    tau_beta ~ Gamma(2, var(x))\n",
    "    beta ~ Normal(0, 1)\n",
    "    sigma ~ Gamma(2, var(x))\n",
    "    alpha ~ Normal(0, 1)\n",
    "\n",
    "    mu = (x .* beta .* tau_beta) .+ alpha\n",
    "    y ~ MvNormal(mu, sigma)\n",
    "end"
   ]
  },
  {
   "cell_type": "code",
   "execution_count": null,
   "metadata": {},
   "outputs": [],
   "source": [
    "model = Linear_Regression(mean_o2, mean_lfp)\n",
    "chain = sample(model, NUTS(0.65), MCMCThreads(), 1000, 4)"
   ]
  },
  {
   "cell_type": "code",
   "execution_count": null,
   "metadata": {},
   "outputs": [],
   "source": [
    "write(\"../../results/aim1/chain1.jls\", chain)"
   ]
  },
  {
   "cell_type": "code",
   "execution_count": null,
   "metadata": {},
   "outputs": [],
   "source": [
    "plot(chain)"
   ]
  }
 ],
 "metadata": {
  "kernelspec": {
   "display_name": "Julia 1.7.2",
   "language": "julia",
   "name": "julia-1.7"
  },
  "language_info": {
   "file_extension": ".jl",
   "mimetype": "application/julia",
   "name": "julia",
   "version": "1.7.2"
  },
  "vscode": {
   "interpreter": {
    "hash": "916dbcbb3f70747c44a77c7bcd40155683ae19c65e1c03b4aa3499c5328201f1"
   }
  }
 },
 "nbformat": 4,
 "nbformat_minor": 2
}

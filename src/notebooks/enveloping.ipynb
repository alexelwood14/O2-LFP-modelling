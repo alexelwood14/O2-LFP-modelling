{
 "cells": [
  {
   "cell_type": "code",
   "execution_count": 1,
   "metadata": {},
   "outputs": [],
   "source": [
    "using EzXML\n",
    "using Plots\n",
    "using StatsPlots\n",
    "using NPZ\n",
    "using Statistics"
   ]
  },
  {
   "cell_type": "markdown",
   "metadata": {},
   "source": [
    "# Enveloping\n",
    "\n",
    "An envelope of time series data is a plot which passes through all the local maxima/minima in the time series data. This is a better representation of the LFP data in relation to utility in a relational model between LFP and O2 data. This notebook will import a set of the LPF data, separate it into neural brain frequency bands, and then compute the envelopes of each resulting time series data.\n",
    "\n",
    "## LFP Data Importing"
   ]
  },
  {
   "cell_type": "code",
   "execution_count": 2,
   "metadata": {},
   "outputs": [],
   "source": [
    "# Get the XML metadata file\n",
    "\n",
    "lfp_path = \"Exp 2/R7/2022-05-11_17-39-17/Record Node 101/\"\n",
    "files_xml = root(readxml(\"../../data/$(lfp_path)Continuous_Data.openephys\"))\n",
    "sample_rate = parse(Int, firstelement(files_xml)[\"samplerate\"])\n",
    "\n",
    "recording = firstelement(firstelement(files_xml))\n",
    "\n",
    "# Format XML data into Dict\n",
    "files = Dict(\"processor\" => recording[\"id\"], \"name\" => [], \"filename\" => [], \"position\" => [], \"bitVolts\" => [])\n",
    "for elem in eachelement(recording)\n",
    "    push!(files[\"name\"], elem[\"name\"])\n",
    "    filename = replace(elem[\"filename\"], r\"continuous$\"=>\"\")\n",
    "    push!(files[\"filename\"], \"$(filename)npz\")\n",
    "    push!(files[\"position\"], elem[\"position\"])\n",
    "    push!(files[\"bitVolts\"], elem[\"bitVolts\"])\n",
    "end"
   ]
  },
  {
   "cell_type": "code",
   "execution_count": 3,
   "metadata": {},
   "outputs": [],
   "source": [
    "# Indexing lfp_data[channel, datapoint]\n",
    "\n",
    "# Add data from each channel into a single matrix\n",
    "n_datapoints = length(npzread(\"../../data/formatted-lfp/$(lfp_path)$(files[\"filename\"][1])\", [\"data\"])[\"data\"][1:end-1024])\n",
    "n_channels = length(files[\"filename\"])\n",
    "lfp_data = Array{Float32}(undef, n_channels, n_datapoints)\n",
    "for i in 1:n_channels\n",
    "    data = npzread(\"../../data/formatted-lfp/$(lfp_path)$(files[\"filename\"][i])\", [\"data\"])[\"data\"][1:end-1024] .* parse(Float64, files[\"bitVolts\"][i])\n",
    "    lfp_data[i, :] = data\n",
    "end\n",
    "\n",
    "# Normalisation\n",
    "for i in 1:n_channels\n",
    "    lfp_data[i, :] = (lfp_data[i, :] .- mean(lfp_data[i, :])) ./ std(lfp_data[i, :])\n",
    "end"
   ]
  },
  {
   "cell_type": "code",
   "execution_count": 4,
   "metadata": {},
   "outputs": [],
   "source": [
    "# Add timestamps into vector \n",
    "# Timestamps are identical for each channel so this only needs to be done once\n",
    "lfp_timestamps = npzread(\"../../data/formatted-lfp/$(lfp_path)$(files[\"filename\"][1])\", [\"timestamps\"])[\"timestamps\"]\n",
    "n_timestamps = length(lfp_timestamps)\n",
    "\n",
    "lfp_timestamps_extended = [lfp_timestamps[i-1] + (lfp_timestamps[i] - lfp_timestamps[i-1]) * j / 1024 for i in 2:n_timestamps for j in 1:1024]\n",
    "lfp_timestamps_extended ./= sample_rate\n",
    "\n",
    "@assert length(lfp_timestamps_extended) == n_datapoints"
   ]
  },
  {
   "cell_type": "code",
   "execution_count": 5,
   "metadata": {},
   "outputs": [
    {
     "data": {
      "text/plain": [
       "Dict{String, Vector{Float64}} with 7 entries:\n",
       "  \"eventId\"         => [1.0, 1.0, 0.0, 1.0, 0.0, 1.0, 0.0, 1.0, 0.0, 1.0  …  0.…\n",
       "  \"channel\"         => [7.0, 4.0, 4.0, 4.0, 4.0, 4.0, 4.0, 4.0, 4.0, 4.0  …  4.…\n",
       "  \"nodeId\"          => [100.0, 100.0, 100.0, 100.0, 100.0, 100.0, 100.0, 100.0,…\n",
       "  \"eventType\"       => [3.0, 3.0, 3.0, 3.0, 3.0, 3.0, 3.0, 3.0, 3.0, 3.0  …  3.…\n",
       "  \"timestamps\"      => [25998.0, 27999.0, 28499.0, 38504.0, 39004.0, 49009.0, 4…\n",
       "  \"sampleNumber\"    => [0.0, 0.0, 0.0, 0.0, 0.0, 0.0, 0.0, 0.0, 0.0, 0.0  …  0.…\n",
       "  \"recordingNumber\" => [0.0, 0.0, 0.0, 0.0, 0.0, 0.0, 0.0, 0.0, 0.0, 0.0  …  0.…"
      ]
     },
     "metadata": {},
     "output_type": "display_data"
    }
   ],
   "source": [
    "events_data = npzread(\"../../data/formatted-lfp/$(lfp_path)all_channels.npz\")"
   ]
  },
  {
   "cell_type": "code",
   "execution_count": 6,
   "metadata": {},
   "outputs": [
    {
     "data": {
      "text/plain": [
       "17-element Vector{Float64}:\n",
       "  326.7\n",
       "  449.063\n",
       "  494.585\n",
       "  534.267\n",
       "  626.499\n",
       "  731.54\n",
       "  817.746\n",
       " 1050.248\n",
       " 1137.999\n",
       " 1216.344\n",
       " 1299.674\n",
       " 1382.94\n",
       " 1466.053\n",
       " 1524.079\n",
       " 1623.609\n",
       " 1623.611\n",
       " 1623.613"
      ]
     },
     "metadata": {},
     "output_type": "display_data"
    }
   ],
   "source": [
    "flag_timestamps = events_data[\"timestamps\"][findall(x->x==4, events_data[\"channel\"])]./1000 \n",
    "flag_eventIds = events_data[\"eventId\"][findall(x->x==4, events_data[\"channel\"])]\n",
    "\n",
    "laser_timestamps = events_data[\"timestamps\"][findall(x->x==0, events_data[\"channel\"])]./1000 \n",
    "laser_eventIds = events_data[\"eventId\"][findall(x->x==0, events_data[\"channel\"])]\n",
    "\n",
    "lfp_flags = flag_timestamps[findall(x->x==1, flag_eventIds)]\n",
    "lfp_laser = laser_timestamps[findall(x->x==1, laser_eventIds)]"
   ]
  },
  {
   "cell_type": "markdown",
   "metadata": {},
   "source": [
    "## Neural Brain Frequency Separation\n",
    "\n",
    "This section will separate out the raw LFP signal into the neural brain frequencies which are defined as follows:\n",
    "\n",
    "$$\\alpha=8-13Hz$$\n",
    "$$\\beta=18-25Hz$$\n",
    "$$\\theta=3.5-7Hz$$\n",
    "$$\\delta=0.5-3.5Hz$$\n",
    "$$\\gamma=30-70Hz$$\n",
    "\n",
    "These definitions are taken from [Başar, 2013](https://www.ncbi.nlm.nih.gov/pmc/articles/PMC3811101/#:~:text=Natural%20brain%20frequencies%20are%20denoted,gamma%3A%2030%2D70%20Hz.&text=When%20the%20stimulus%20signal%20contains,oscillations%20are%20considered%20as%20ERO.)."
   ]
  },
  {
   "cell_type": "code",
   "execution_count": null,
   "metadata": {},
   "outputs": [],
   "source": []
  }
 ],
 "metadata": {
  "kernelspec": {
   "display_name": "Julia 1.7.2",
   "language": "julia",
   "name": "julia-1.7"
  },
  "language_info": {
   "file_extension": ".jl",
   "mimetype": "application/julia",
   "name": "julia",
   "version": "1.7.2"
  },
  "orig_nbformat": 4
 },
 "nbformat": 4,
 "nbformat_minor": 2
}
